{
 "cells": [
  {
   "cell_type": "markdown",
   "metadata": {},
   "source": [
    "# Assignment 6 - Getting data from the web\n",
    "\n",
    "# Part 1\n",
    "Re-write the boxofficemojo query to get the top 1000 movies for R rated movies using __Worldwide revenue__ into a pandas dataframe.\n",
    "\n",
    "# Part 2\n",
    "Adjust your query from part 1 to gather the top 200 movies from G, PG, PG-13, and R movies __into a single data frame__.  You will need to add a column to the dataframe for MPAA_Rating.\n",
    "\n",
    "# Part 3\n",
    "Use the [zippopotam.us](http://www.zippopotam.us/) RESTful webservice to gather information about your hometown (__*if your hometown is Fayetteville, AR pick another random postal code to use instead*__).  \n",
    "* Use the postal code to get Country, State, City as well as the latitude and longitude.\n",
    "* Now use the country, state, city reverse lookup and provide all the postal codes that are in your hometown.\n",
    "  * For instance, a reverse lookup on Fayetteville, AR shows zip codes (72701, 72702, 72703, 72704)"
   ]
  }
 ],
 "metadata": {
  "kernelspec": {
   "display_name": "Python 3.9.12 ('base')",
   "language": "python",
   "name": "python3"
  },
  "language_info": {
   "name": "python",
   "version": "3.9.12"
  },
  "orig_nbformat": 4,
  "vscode": {
   "interpreter": {
    "hash": "d4d1e4263499bec80672ea0156c357c1ee493ec2b1c70f0acce89fc37c4a6abe"
   }
  }
 },
 "nbformat": 4,
 "nbformat_minor": 2
}
