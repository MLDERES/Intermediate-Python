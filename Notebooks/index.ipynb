{
 "cells": [
  {
   "cell_type": "markdown",
   "metadata": {},
   "source": [
    "# Notebooks\n",
    "\n",
    "[Pandas Intro](./04-Pandas_Intro.ipynb)\n",
    "- [Pandas Assignment](04-Assignment.ipynb)\n",
    "\n",
    "[Data Formats](./05-DataFormats.ipynb)\n",
    "\n",
    "[Web Data](./06-WebData.ipynb)\n",
    "- [Web Data Assignment](06-WebData.ipynb)"
   ]
  }
 ],
 "metadata": {
  "language_info": {
   "name": "python"
  },
  "orig_nbformat": 4
 },
 "nbformat": 4,
 "nbformat_minor": 2
}
