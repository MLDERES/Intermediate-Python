{
 "cells": [
  {
   "cell_type": "markdown",
   "metadata": {},
   "source": [
    "# Gather data from the web\n",
    "As a data analyst, data is the fuel that drives the engine of discovery.  Often times this means using data we have collected with web forms, using external systems or via some business process.  Occassionally, we'll be given the data directly or we can download some data from a webpage that meets our needs.  Being able to gather data from sources on the web is a skill that is often very useful.  Wouldn't it be great if you could download [weather data predictions](https://www.abstractapi.com/api/weather#:~:text=What%20does%20the%20Weather%20API%20do%3F%20Abstract%27s%20Weather,and%20forecasted%20weather%20data%20for%20millions%20of%20locations.) as part of your morning routine, or grab [movies reviews](https://www.rottentomatoes.com/) to make plans for the weekend or even get data from the [James Webb Telescope](https://www.nasa.gov/mission_pages/webb/about/index.html) so you can process your own images from outer space!\n",
    "\n",
    "Well fortunately you have most of the skills you need to do some of these things already.  In this notebook, we'll look at a few ways to get at data on the web, this is not comprehensive, but it should give you a start in the right direction.  One key skill this notebook leaves out is automating a webpage (like filling out a form or hitting a submit button) this automation takes a bit of extra setup and doesn't work well in a Jupyter notebook, but there are tools that can be helpful.  Check out [selenium](https://www.geeksforgeeks.org/selenium-python-tutorial/) and [scrapy](https://docs.scrapy.org/en/latest/intro/tutorial.html) for a couple of approaches that use Python.\n",
    "\n",
    "## Simple Webscraping with Pandas\n",
    "Believe it or not, one of the simplest ways to get data from the web is to use `pandas`, the `read_html` function is fantastic and simple.  All we need is to install a couple libraries and then we can gather data from simpler web pages very quickly.\n",
    "\n",
    "In this first example, I went to [boxofficemojo.com](https://www.boxofficemojo.com/) and I selected a particular page where I saw some data I needed.  In this case, [Top Lifetime Grosses by MPAA Rating for PG-13 movies](https://www.boxofficemojo.com/chart/mpaa_title_lifetime_gross/?by_mpaa=PG-13&ref_=bo_cso_ac).  Looking at this page, I can see that there are about 200 movies on the first page.  This is enough for our purposes.  Next, I captured the URL (the link in the browser) and I use this to open with the `pandas` library.  Be careful, the result of the `read_html` method is a *list* of dataframes, so we'll have to know which one we are after.  In this particular case there is only one data frame, so we can use that one.\n"
   ]
  },
  {
   "cell_type": "code",
   "execution_count": 5,
   "metadata": {},
   "outputs": [
    {
     "name": "stdout",
     "output_type": "stream",
     "text": [
      "1\n"
     ]
    }
   ],
   "source": [
    "# Start by importing a couple of libraries\n",
    "import pandas as pd\n",
    "movies = pd.read_html(\"https://www.boxofficemojo.com/chart/mpaa_title_lifetime_gross/?by_mpaa=PG-13&ref_=bo_cso_ac\")\n",
    "print(len(movies))"
   ]
  },
  {
   "cell_type": "code",
   "execution_count": 6,
   "metadata": {},
   "outputs": [
    {
     "data": {
      "text/html": [
       "<div>\n",
       "<style scoped>\n",
       "    .dataframe tbody tr th:only-of-type {\n",
       "        vertical-align: middle;\n",
       "    }\n",
       "\n",
       "    .dataframe tbody tr th {\n",
       "        vertical-align: top;\n",
       "    }\n",
       "\n",
       "    .dataframe thead th {\n",
       "        text-align: right;\n",
       "    }\n",
       "</style>\n",
       "<table border=\"1\" class=\"dataframe\">\n",
       "  <thead>\n",
       "    <tr style=\"text-align: right;\">\n",
       "      <th></th>\n",
       "      <th>Title</th>\n",
       "      <th>Rank</th>\n",
       "      <th>Lifetime Gross</th>\n",
       "      <th>Overall Rank</th>\n",
       "      <th>Year</th>\n",
       "    </tr>\n",
       "  </thead>\n",
       "  <tbody>\n",
       "    <tr>\n",
       "      <th>0</th>\n",
       "      <td>Star Wars: Episode VII - The Force Awakens</td>\n",
       "      <td>1</td>\n",
       "      <td>$936,662,225</td>\n",
       "      <td>1</td>\n",
       "      <td>2015</td>\n",
       "    </tr>\n",
       "    <tr>\n",
       "      <th>1</th>\n",
       "      <td>Avengers: Endgame</td>\n",
       "      <td>2</td>\n",
       "      <td>$858,373,000</td>\n",
       "      <td>2</td>\n",
       "      <td>2019</td>\n",
       "    </tr>\n",
       "    <tr>\n",
       "      <th>2</th>\n",
       "      <td>Spider-Man: No Way Home</td>\n",
       "      <td>3</td>\n",
       "      <td>$804,793,477</td>\n",
       "      <td>3</td>\n",
       "      <td>2021</td>\n",
       "    </tr>\n",
       "    <tr>\n",
       "      <th>3</th>\n",
       "      <td>Avatar</td>\n",
       "      <td>4</td>\n",
       "      <td>$760,507,625</td>\n",
       "      <td>4</td>\n",
       "      <td>2009</td>\n",
       "    </tr>\n",
       "    <tr>\n",
       "      <th>4</th>\n",
       "      <td>Black Panther</td>\n",
       "      <td>5</td>\n",
       "      <td>$700,426,566</td>\n",
       "      <td>5</td>\n",
       "      <td>2018</td>\n",
       "    </tr>\n",
       "    <tr>\n",
       "      <th>...</th>\n",
       "      <td>...</td>\n",
       "      <td>...</td>\n",
       "      <td>...</td>\n",
       "      <td>...</td>\n",
       "      <td>...</td>\n",
       "    </tr>\n",
       "    <tr>\n",
       "      <th>195</th>\n",
       "      <td>Fantastic Beasts: The Crimes of Grindelwald</td>\n",
       "      <td>196</td>\n",
       "      <td>$159,555,901</td>\n",
       "      <td>353</td>\n",
       "      <td>2018</td>\n",
       "    </tr>\n",
       "    <tr>\n",
       "      <th>196</th>\n",
       "      <td>Star Trek Beyond</td>\n",
       "      <td>197</td>\n",
       "      <td>$158,848,340</td>\n",
       "      <td>358</td>\n",
       "      <td>2016</td>\n",
       "    </tr>\n",
       "    <tr>\n",
       "      <th>197</th>\n",
       "      <td>The Longest Yard</td>\n",
       "      <td>198</td>\n",
       "      <td>$158,119,460</td>\n",
       "      <td>360</td>\n",
       "      <td>2005</td>\n",
       "    </tr>\n",
       "    <tr>\n",
       "      <th>198</th>\n",
       "      <td>X-Men</td>\n",
       "      <td>199</td>\n",
       "      <td>$157,299,718</td>\n",
       "      <td>361</td>\n",
       "      <td>2000</td>\n",
       "    </tr>\n",
       "    <tr>\n",
       "      <th>199</th>\n",
       "      <td>What Lies Beneath</td>\n",
       "      <td>200</td>\n",
       "      <td>$155,464,351</td>\n",
       "      <td>366</td>\n",
       "      <td>2000</td>\n",
       "    </tr>\n",
       "  </tbody>\n",
       "</table>\n",
       "<p>200 rows × 5 columns</p>\n",
       "</div>"
      ],
      "text/plain": [
       "                                           Title  Rank Lifetime Gross  \\\n",
       "0     Star Wars: Episode VII - The Force Awakens     1   $936,662,225   \n",
       "1                              Avengers: Endgame     2   $858,373,000   \n",
       "2                        Spider-Man: No Way Home     3   $804,793,477   \n",
       "3                                         Avatar     4   $760,507,625   \n",
       "4                                  Black Panther     5   $700,426,566   \n",
       "..                                           ...   ...            ...   \n",
       "195  Fantastic Beasts: The Crimes of Grindelwald   196   $159,555,901   \n",
       "196                             Star Trek Beyond   197   $158,848,340   \n",
       "197                             The Longest Yard   198   $158,119,460   \n",
       "198                                        X-Men   199   $157,299,718   \n",
       "199                            What Lies Beneath   200   $155,464,351   \n",
       "\n",
       "     Overall Rank  Year  \n",
       "0               1  2015  \n",
       "1               2  2019  \n",
       "2               3  2021  \n",
       "3               4  2009  \n",
       "4               5  2018  \n",
       "..            ...   ...  \n",
       "195           353  2018  \n",
       "196           358  2016  \n",
       "197           360  2005  \n",
       "198           361  2000  \n",
       "199           366  2000  \n",
       "\n",
       "[200 rows x 5 columns]"
      ]
     },
     "execution_count": 6,
     "metadata": {},
     "output_type": "execute_result"
    }
   ],
   "source": [
    "# Since there is only one dataframe in the list, we choose the first one\n",
    "movies_df = movies[0]\n",
    "movies_df"
   ]
  },
  {
   "cell_type": "markdown",
   "metadata": {},
   "source": [
    "With one simple command, we have scraped 200 rows of data!  A little clicking [around on the website](https://www.boxofficemojo.com/chart/mpaa_title_lifetime_gross/?by_mpaa=PG-13&offset=200) and I can gather another page of movies as well.\n",
    "\n",
    "Now, with a little detective work I can see that the only difference between the two URLs is that last item `offset=200`.  I wonder what happens if I change that value to `offset=400`?  Try it, I'll wait here...."
   ]
  },
  {
   "cell_type": "code",
   "execution_count": 7,
   "metadata": {},
   "outputs": [
    {
     "data": {
      "text/html": [
       "<div>\n",
       "<style scoped>\n",
       "    .dataframe tbody tr th:only-of-type {\n",
       "        vertical-align: middle;\n",
       "    }\n",
       "\n",
       "    .dataframe tbody tr th {\n",
       "        vertical-align: top;\n",
       "    }\n",
       "\n",
       "    .dataframe thead th {\n",
       "        text-align: right;\n",
       "    }\n",
       "</style>\n",
       "<table border=\"1\" class=\"dataframe\">\n",
       "  <thead>\n",
       "    <tr style=\"text-align: right;\">\n",
       "      <th></th>\n",
       "      <th>Title</th>\n",
       "      <th>Rank</th>\n",
       "      <th>Lifetime Gross</th>\n",
       "      <th>Overall Rank</th>\n",
       "      <th>Year</th>\n",
       "    </tr>\n",
       "  </thead>\n",
       "  <tbody>\n",
       "    <tr>\n",
       "      <th>0</th>\n",
       "      <td>X-Men: Apocalypse</td>\n",
       "      <td>201</td>\n",
       "      <td>$155,442,489</td>\n",
       "      <td>367</td>\n",
       "      <td>2016</td>\n",
       "    </tr>\n",
       "    <tr>\n",
       "      <th>1</th>\n",
       "      <td>The Mummy</td>\n",
       "      <td>202</td>\n",
       "      <td>$155,385,488</td>\n",
       "      <td>368</td>\n",
       "      <td>1999</td>\n",
       "    </tr>\n",
       "    <tr>\n",
       "      <th>2</th>\n",
       "      <td>Snow White and the Huntsman</td>\n",
       "      <td>203</td>\n",
       "      <td>$155,332,381</td>\n",
       "      <td>369</td>\n",
       "      <td>2012</td>\n",
       "    </tr>\n",
       "    <tr>\n",
       "      <th>3</th>\n",
       "      <td>San Andreas</td>\n",
       "      <td>204</td>\n",
       "      <td>$155,190,832</td>\n",
       "      <td>370</td>\n",
       "      <td>2015</td>\n",
       "    </tr>\n",
       "    <tr>\n",
       "      <th>4</th>\n",
       "      <td>Fast &amp; Furious</td>\n",
       "      <td>205</td>\n",
       "      <td>$155,064,265</td>\n",
       "      <td>371</td>\n",
       "      <td>2009</td>\n",
       "    </tr>\n",
       "    <tr>\n",
       "      <th>...</th>\n",
       "      <td>...</td>\n",
       "      <td>...</td>\n",
       "      <td>...</td>\n",
       "      <td>...</td>\n",
       "      <td>...</td>\n",
       "    </tr>\n",
       "    <tr>\n",
       "      <th>195</th>\n",
       "      <td>Prince of Persia: The Sands of Time</td>\n",
       "      <td>396</td>\n",
       "      <td>$90,759,676</td>\n",
       "      <td>868</td>\n",
       "      <td>2010</td>\n",
       "    </tr>\n",
       "    <tr>\n",
       "      <th>196</th>\n",
       "      <td>Scary Movie 4</td>\n",
       "      <td>397</td>\n",
       "      <td>$90,710,620</td>\n",
       "      <td>870</td>\n",
       "      <td>2006</td>\n",
       "    </tr>\n",
       "    <tr>\n",
       "      <th>197</th>\n",
       "      <td>Madea Goes to Jail</td>\n",
       "      <td>398</td>\n",
       "      <td>$90,508,336</td>\n",
       "      <td>875</td>\n",
       "      <td>2009</td>\n",
       "    </tr>\n",
       "    <tr>\n",
       "      <th>198</th>\n",
       "      <td>Space Cowboys</td>\n",
       "      <td>399</td>\n",
       "      <td>$90,464,773</td>\n",
       "      <td>876</td>\n",
       "      <td>2000</td>\n",
       "    </tr>\n",
       "    <tr>\n",
       "      <th>199</th>\n",
       "      <td>RED</td>\n",
       "      <td>400</td>\n",
       "      <td>$90,380,162</td>\n",
       "      <td>879</td>\n",
       "      <td>2010</td>\n",
       "    </tr>\n",
       "  </tbody>\n",
       "</table>\n",
       "<p>200 rows × 5 columns</p>\n",
       "</div>"
      ],
      "text/plain": [
       "                                   Title  Rank Lifetime Gross  Overall Rank  \\\n",
       "0                      X-Men: Apocalypse   201   $155,442,489           367   \n",
       "1                              The Mummy   202   $155,385,488           368   \n",
       "2            Snow White and the Huntsman   203   $155,332,381           369   \n",
       "3                            San Andreas   204   $155,190,832           370   \n",
       "4                         Fast & Furious   205   $155,064,265           371   \n",
       "..                                   ...   ...            ...           ...   \n",
       "195  Prince of Persia: The Sands of Time   396    $90,759,676           868   \n",
       "196                        Scary Movie 4   397    $90,710,620           870   \n",
       "197                   Madea Goes to Jail   398    $90,508,336           875   \n",
       "198                        Space Cowboys   399    $90,464,773           876   \n",
       "199                                  RED   400    $90,380,162           879   \n",
       "\n",
       "     Year  \n",
       "0    2016  \n",
       "1    1999  \n",
       "2    2012  \n",
       "3    2015  \n",
       "4    2009  \n",
       "..    ...  \n",
       "195  2010  \n",
       "196  2006  \n",
       "197  2009  \n",
       "198  2000  \n",
       "199  2010  \n",
       "\n",
       "[200 rows x 5 columns]"
      ]
     },
     "execution_count": 7,
     "metadata": {},
     "output_type": "execute_result"
    }
   ],
   "source": [
    "# Since I already know there is only 1 dataframe in the list, let's just grab the first one immediately\n",
    "movies_200_df = pd.read_html(\"https://www.boxofficemojo.com/chart/mpaa_title_lifetime_gross/?by_mpaa=PG-13&offset=200\")[0]\n",
    "movies_200_df"
   ]
  },
  {
   "cell_type": "markdown",
   "metadata": {},
   "source": [
    "You can see where this is going right?  I could easily setup a loop and simply change the value of `offset` from 200 to 400 to 600 to 800 and gather all the top 1000 movies."
   ]
  },
  {
   "cell_type": "code",
   "execution_count": 14,
   "metadata": {},
   "outputs": [
    {
     "name": "stdout",
     "output_type": "stream",
     "text": [
      "https://www.boxofficemojo.com/chart/mpaa_title_lifetime_gross/?by_mpaa=PG-13&offset=200\n",
      "https://www.boxofficemojo.com/chart/mpaa_title_lifetime_gross/?by_mpaa=PG-13&offset=400\n",
      "https://www.boxofficemojo.com/chart/mpaa_title_lifetime_gross/?by_mpaa=PG-13&offset=600\n",
      "https://www.boxofficemojo.com/chart/mpaa_title_lifetime_gross/?by_mpaa=PG-13&offset=800\n"
     ]
    },
    {
     "name": "stderr",
     "output_type": "stream",
     "text": [
      "/tmp/ipykernel_8688/653906905.py:17: FutureWarning: The frame.append method is deprecated and will be removed from pandas in a future version. Use pandas.concat instead.\n",
      "  movies_df = movies_df.append(movie_list,ignore_index=True)\n"
     ]
    },
    {
     "data": {
      "text/html": [
       "<div>\n",
       "<style scoped>\n",
       "    .dataframe tbody tr th:only-of-type {\n",
       "        vertical-align: middle;\n",
       "    }\n",
       "\n",
       "    .dataframe tbody tr th {\n",
       "        vertical-align: top;\n",
       "    }\n",
       "\n",
       "    .dataframe thead th {\n",
       "        text-align: right;\n",
       "    }\n",
       "</style>\n",
       "<table border=\"1\" class=\"dataframe\">\n",
       "  <thead>\n",
       "    <tr style=\"text-align: right;\">\n",
       "      <th></th>\n",
       "      <th>Title</th>\n",
       "      <th>Rank</th>\n",
       "      <th>Lifetime Gross</th>\n",
       "      <th>Overall Rank</th>\n",
       "      <th>Year</th>\n",
       "    </tr>\n",
       "  </thead>\n",
       "  <tbody>\n",
       "    <tr>\n",
       "      <th>0</th>\n",
       "      <td>Star Wars: Episode VII - The Force Awakens</td>\n",
       "      <td>1</td>\n",
       "      <td>$936,662,225</td>\n",
       "      <td>1</td>\n",
       "      <td>2015</td>\n",
       "    </tr>\n",
       "    <tr>\n",
       "      <th>1</th>\n",
       "      <td>Avengers: Endgame</td>\n",
       "      <td>2</td>\n",
       "      <td>$858,373,000</td>\n",
       "      <td>2</td>\n",
       "      <td>2019</td>\n",
       "    </tr>\n",
       "    <tr>\n",
       "      <th>2</th>\n",
       "      <td>Spider-Man: No Way Home</td>\n",
       "      <td>3</td>\n",
       "      <td>$804,793,477</td>\n",
       "      <td>3</td>\n",
       "      <td>2021</td>\n",
       "    </tr>\n",
       "    <tr>\n",
       "      <th>3</th>\n",
       "      <td>Avatar</td>\n",
       "      <td>4</td>\n",
       "      <td>$760,507,625</td>\n",
       "      <td>4</td>\n",
       "      <td>2009</td>\n",
       "    </tr>\n",
       "    <tr>\n",
       "      <th>4</th>\n",
       "      <td>Black Panther</td>\n",
       "      <td>5</td>\n",
       "      <td>$700,426,566</td>\n",
       "      <td>5</td>\n",
       "      <td>2018</td>\n",
       "    </tr>\n",
       "    <tr>\n",
       "      <th>...</th>\n",
       "      <td>...</td>\n",
       "      <td>...</td>\n",
       "      <td>...</td>\n",
       "      <td>...</td>\n",
       "      <td>...</td>\n",
       "    </tr>\n",
       "    <tr>\n",
       "      <th>995</th>\n",
       "      <td>Hot Pursuit</td>\n",
       "      <td>996</td>\n",
       "      <td>$34,580,201</td>\n",
       "      <td>2531</td>\n",
       "      <td>2015</td>\n",
       "    </tr>\n",
       "    <tr>\n",
       "      <th>996</th>\n",
       "      <td>Concussion</td>\n",
       "      <td>997</td>\n",
       "      <td>$34,542,474</td>\n",
       "      <td>2533</td>\n",
       "      <td>2015</td>\n",
       "    </tr>\n",
       "    <tr>\n",
       "      <th>997</th>\n",
       "      <td>Malibu's Most Wanted</td>\n",
       "      <td>998</td>\n",
       "      <td>$34,432,201</td>\n",
       "      <td>2535</td>\n",
       "      <td>2003</td>\n",
       "    </tr>\n",
       "    <tr>\n",
       "      <th>998</th>\n",
       "      <td>Like Father Like Son</td>\n",
       "      <td>999</td>\n",
       "      <td>$34,377,585</td>\n",
       "      <td>2539</td>\n",
       "      <td>1987</td>\n",
       "    </tr>\n",
       "    <tr>\n",
       "      <th>999</th>\n",
       "      <td>Adventures in Babysitting</td>\n",
       "      <td>1000</td>\n",
       "      <td>$34,368,475</td>\n",
       "      <td>2540</td>\n",
       "      <td>1987</td>\n",
       "    </tr>\n",
       "  </tbody>\n",
       "</table>\n",
       "<p>1000 rows × 5 columns</p>\n",
       "</div>"
      ],
      "text/plain": [
       "                                          Title  Rank Lifetime Gross  \\\n",
       "0    Star Wars: Episode VII - The Force Awakens     1   $936,662,225   \n",
       "1                             Avengers: Endgame     2   $858,373,000   \n",
       "2                       Spider-Man: No Way Home     3   $804,793,477   \n",
       "3                                        Avatar     4   $760,507,625   \n",
       "4                                 Black Panther     5   $700,426,566   \n",
       "..                                          ...   ...            ...   \n",
       "995                                 Hot Pursuit   996    $34,580,201   \n",
       "996                                  Concussion   997    $34,542,474   \n",
       "997                        Malibu's Most Wanted   998    $34,432,201   \n",
       "998                        Like Father Like Son   999    $34,377,585   \n",
       "999                   Adventures in Babysitting  1000    $34,368,475   \n",
       "\n",
       "     Overall Rank  Year  \n",
       "0               1  2015  \n",
       "1               2  2019  \n",
       "2               3  2021  \n",
       "3               4  2009  \n",
       "4               5  2018  \n",
       "..            ...   ...  \n",
       "995          2531  2015  \n",
       "996          2533  2015  \n",
       "997          2535  2003  \n",
       "998          2539  1987  \n",
       "999          2540  1987  \n",
       "\n",
       "[1000 rows x 5 columns]"
      ]
     },
     "execution_count": 14,
     "metadata": {},
     "output_type": "execute_result"
    }
   ],
   "source": [
    "# Build the basic url string\n",
    "base_url = 'https://www.boxofficemojo.com/chart/mpaa_title_lifetime_gross/?by_mpaa=PG-13'\n",
    "\n",
    "# Start over with our movies dataframe, in case this cell runs more than once\n",
    "movies_df = pd.read_html(base_url)[0]\n",
    "# We need a list to put all the dataframes in prior to joining it back together\n",
    "movie_list = []\n",
    "# Go through the loop by 200s from 200 to 1000 (step = 200)\n",
    "for offset in range(200,1000,200):\n",
    "    # Store 200 movies at a time into a temporary dataframe\n",
    "    temp_url = base_url+f'&offset={offset}'\n",
    "    print (temp_url)\n",
    "    m_df = pd.read_html(temp_url)[0]\n",
    "    movie_list.append(m_df)\n",
    "\n",
    "# Now that we have all the movies in a list, append the datasets together into one master dataframe\n",
    "movies_df = movies_df.append(movie_list,ignore_index=True)\n",
    "movies_df\n"
   ]
  },
  {
   "cell_type": "markdown",
   "metadata": {},
   "source": [
    "Now that is super helpful!  We just downloaded 1000 top grossing pg-13 rated movies in a few seconds.  But what exactly was that thing we did at the end, the whole `offset=200` thing.  This is called a query parameter and be a very transparent way for webpages to communicate to the server about the data they want.\n",
    "\n",
    "## Query parameters\n",
    "A bit of background, (a very little bit), web page links usually only \"resolve\" to a particular page on a particular server.  The webserver looks up the page and returns whatever is stored there.  This isn't very handy if you have alot of data to display - for instance in the case of boxofficemojo.com, they don't want to have to create 5 different web pages for each set of 200 movies.  So instead they built one web page and used parameters (yes!  just like function parameters in Python) which define the exact contents to display.  Fortunately for us, this makes it very transparent how to manipulate the page.  We can see exactly what details the server needs to give the data we want.\n",
    "\n",
    "The URL format is, `<protocol>` (like https://) followed by the endpoint (www.boxofficemojo.com/chart/mpaa_title_lifetime_gross) then a `?` followed by 0 or more query parameters.  Query parameters are name/value pairs and delimited by an `&`.  So let's look at that url from before again.\n",
    "\n",
    "> https://www.boxofficemojo.com/chart/mpaa_title_lifetime_gross/?by_mpaa=PG-13&offset=200\n",
    "\n",
    "Here the query parameters are `by_mpaa` and `offset`.  So that's interesting, now that we notice this, it's possible that we could change the `by_mpaa` parameter as well and get R rated movies as well?  Let's try it by hand first.  Paste the link into the website and change the PG-13 to R and see what happens.\n",
    "\n",
    "That's great, so with a simple change we could also R rated movies in a dataframe as well.  (You can copy the code above and try it out for yourself below)."
   ]
  },
  {
   "cell_type": "code",
   "execution_count": 16,
   "metadata": {},
   "outputs": [],
   "source": [
    "# Copy the code from above and replace PG-13 with R to get the top 100 grossing R rated movies"
   ]
  },
  {
   "cell_type": "markdown",
   "metadata": {},
   "source": [
    "It's kind of a pain to navigate all that string building and trying to keep up with encoding each part of the URL.  Spaces for instance, can't be used in a parameter and what if you need to use an `&` symbol for a parameter name.  Well fortunately, we have a helpful built-in library called `urllib` which takes care to make sure our format is right everytime.  All we need to do is supply a dictionary of parameters and tell the library to encode it into a proper request."
   ]
  },
  {
   "cell_type": "code",
   "execution_count": 22,
   "metadata": {},
   "outputs": [
    {
     "name": "stdout",
     "output_type": "stream",
     "text": [
      "https://www.boxofficemojo.com/chart/mpaa_title_lifetime_gross/?by_mpaa=R&offset=0\n"
     ]
    }
   ],
   "source": [
    "from urllib.parse import urlencode\n",
    "\n",
    "# Build the basic url string\n",
    "base_url = 'https://www.boxofficemojo.com/chart/mpaa_title_lifetime_gross/?'\n",
    "\n",
    "# Setup the parameters\n",
    "params = {'by_mpaa':'R','offset':0}\n",
    "print(base_url + urlencode(params))"
   ]
  },
  {
   "cell_type": "markdown",
   "metadata": {},
   "source": [
    "# Using APIs \n",
    "Another common way to get data from a website is with a known endpoint.  While the concepts for using these endpoints are similar, the implementation is usually left to the specific webpage based on the kind of information provided, so it's a bit difficult to generalize.  Here we'll look at an example that is very useful and gives a sense of the Python tools used to navigate the endpoint when you see something similar.\n",
    "\n",
    "## Using the requests library\n",
    "The [`requests`](https://requests.readthedocs.io/en/latest/) library is a very common library for automating the interaction with webpages.  There are lots and lots of features, we'll focus on just a few.  For more information, you can see the excellent documentation [here](https://requests.readthedocs.io/en/latest/).\n",
    "\n",
    "There are several different request types that can sent to a webpage (GET, PUT, DELETE, HEAD, et al). GET is used to navigate a static website, sometimes using query parameters as we have seen already.  PUT and POST are used to submit data on a form.  We'll leave the others for a more advanced treatise.  For our purposes, we'll just take a look at GET.  \n",
    "\n",
    "Let's take a new example.  What if we want get the current price of bitcoin?\n"
   ]
  },
  {
   "cell_type": "code",
   "execution_count": 29,
   "metadata": {},
   "outputs": [
    {
     "data": {
      "text/plain": [
       "'{\"time\":{\"updated\":\"Jul 28, 2022 15:13:00 UTC\",\"updatedISO\":\"2022-07-28T15:13:00+00:00\",\"updateduk\":\"Jul 28, 2022 at 16:13 BST\"},\"disclaimer\":\"This data was produced from the CoinDesk Bitcoin Price Index (USD). Non-USD currency data converted using hourly conversion rate from openexchangerates.org\",\"chartName\":\"Bitcoin\",\"bpi\":{\"USD\":{\"code\":\"USD\",\"symbol\":\"&#36;\",\"rate\":\"23,204.1697\",\"description\":\"United States Dollar\",\"rate_float\":23204.1697},\"GBP\":{\"code\":\"GBP\",\"symbol\":\"&pound;\",\"rate\":\"19,389.2185\",\"description\":\"British Pound Sterling\",\"rate_float\":19389.2185},\"EUR\":{\"code\":\"EUR\",\"symbol\":\"&euro;\",\"rate\":\"22,604.2491\",\"description\":\"Euro\",\"rate_float\":22604.2491}}}'"
      ]
     },
     "execution_count": 29,
     "metadata": {},
     "output_type": "execute_result"
    }
   ],
   "source": [
    "import requests\n",
    "\n",
    "url = 'https://api.coindesk.com/v1/bpi/currentprice.json'\n",
    "r= requests.get(url)\n",
    "r.text\n"
   ]
  },
  {
   "cell_type": "markdown",
   "metadata": {},
   "source": [
    "That was easy.  Notice we always get a response object, which may be a number of different formats, it could be HTML/text, JSON, or even some binary format (useful for images or encoded data).  We asked for the result as text, but in reality this looks like JSON.  We could apply the JSON methods we've learned earlier to turn this into a dictionary, but `requests` helps us out a bit with this by offering a method to get the response as a JSON like object."
   ]
  },
  {
   "cell_type": "code",
   "execution_count": 37,
   "metadata": {},
   "outputs": [
    {
     "name": "stdout",
     "output_type": "stream",
     "text": [
      "<class 'dict'>\n"
     ]
    },
    {
     "data": {
      "text/plain": [
       "{'time': {'updated': 'Jul 28, 2022 15:18:00 UTC',\n",
       "  'updatedISO': '2022-07-28T15:18:00+00:00',\n",
       "  'updateduk': 'Jul 28, 2022 at 16:18 BST'},\n",
       " 'disclaimer': 'This data was produced from the CoinDesk Bitcoin Price Index (USD). Non-USD currency data converted using hourly conversion rate from openexchangerates.org',\n",
       " 'chartName': 'Bitcoin',\n",
       " 'bpi': {'USD': {'code': 'USD',\n",
       "   'symbol': '&#36;',\n",
       "   'rate': '23,230.2709',\n",
       "   'description': 'United States Dollar',\n",
       "   'rate_float': 23230.2709},\n",
       "  'GBP': {'code': 'GBP',\n",
       "   'symbol': '&pound;',\n",
       "   'rate': '19,411.0285',\n",
       "   'description': 'British Pound Sterling',\n",
       "   'rate_float': 19411.0285},\n",
       "  'EUR': {'code': 'EUR',\n",
       "   'symbol': '&euro;',\n",
       "   'rate': '22,629.6755',\n",
       "   'description': 'Euro',\n",
       "   'rate_float': 22629.6755}}}"
      ]
     },
     "execution_count": 37,
     "metadata": {},
     "output_type": "execute_result"
    }
   ],
   "source": [
    "url = 'https://api.coindesk.com/v1/bpi/currentprice.json'\n",
    "r= requests.get(url)\n",
    "bitcoin_json = r.json()\n",
    "print(type(bitcoin_json))\n",
    "bitcoin_json"
   ]
  },
  {
   "cell_type": "markdown",
   "metadata": {},
   "source": [
    "So we already get the data as a dictionary!  This is helpful.  We could do something useful without much issue then."
   ]
  },
  {
   "cell_type": "code",
   "execution_count": 55,
   "metadata": {},
   "outputs": [
    {
     "name": "stdout",
     "output_type": "stream",
     "text": [
      "As of Jul 28, 2022 15:18:00 UTC\n",
      "\tCurrent price of bitcoin in USD: 23,230.2709\n",
      "\tCurrent price of bitcoin in GBP: 19,411.0285\n",
      "\tCurrent price of bitcoin in EUR: 22,629.6755\n"
     ]
    }
   ],
   "source": [
    "# Give the user the current price of Bitcoin in USD, GBP, and EUR\n",
    "price_index = bitcoin_json['bpi']\n",
    "last_update = bitcoin_json['time'][\"updated\"]\n",
    "print(f'As of {last_update}')\n",
    "for currency in ['USD', 'GBP', 'EUR']:\n",
    "    units = price_index[currency]\n",
    "    print(f'\\tCurrent price of bitcoin in {currency}: {units[\"rate\"]}')"
   ]
  },
  {
   "cell_type": "markdown",
   "metadata": {},
   "source": [
    "Parameters are dealt with in a similar way as with the `urlparse` library above, we put the parameters into a dictionary and pass them along.  Following is an example of finding out when the International Space Station will pass over a specific point."
   ]
  },
  {
   "cell_type": "code",
   "execution_count": 58,
   "metadata": {},
   "outputs": [
    {
     "data": {
      "text/plain": [
       "{'message': 'success',\n",
       " 'request': {'altitude': 100,\n",
       "  'datetime': 1659022984,\n",
       "  'latitude': 45.0,\n",
       "  'longitude': 180.0,\n",
       "  'passes': 5},\n",
       " 'response': [{'duration': 155, 'risetime': 1659055911},\n",
       "  {'duration': 609, 'risetime': 1659061428},\n",
       "  {'duration': 647, 'risetime': 1659067202},\n",
       "  {'duration': 620, 'risetime': 1659073047},\n",
       "  {'duration': 634, 'risetime': 1659078881}]}"
      ]
     },
     "execution_count": 58,
     "metadata": {},
     "output_type": "execute_result"
    }
   ],
   "source": [
    "iss_url = \"http://api.open-notify.org/iss-pass.json\"\n",
    "query_params = {'lat':'45', 'lon':'180'}\n",
    "resp = requests.get(iss_url,params=query_params)\n",
    "resp.json()"
   ]
  },
  {
   "cell_type": "markdown",
   "metadata": {},
   "source": [
    "## Using APIs\n",
    "### Query Based Parameters\n",
    "### REST services\n",
    "\n",
    "## Simple Webscraping with BeautifulSoup"
   ]
  }
 ],
 "metadata": {
  "kernelspec": {
   "display_name": "Python 3.9.12 ('base')",
   "language": "python",
   "name": "python3"
  },
  "language_info": {
   "codemirror_mode": {
    "name": "ipython",
    "version": 3
   },
   "file_extension": ".py",
   "mimetype": "text/x-python",
   "name": "python",
   "nbconvert_exporter": "python",
   "pygments_lexer": "ipython3",
   "version": "3.9.12"
  },
  "orig_nbformat": 4,
  "vscode": {
   "interpreter": {
    "hash": "d4d1e4263499bec80672ea0156c357c1ee493ec2b1c70f0acce89fc37c4a6abe"
   }
  }
 },
 "nbformat": 4,
 "nbformat_minor": 2
}
