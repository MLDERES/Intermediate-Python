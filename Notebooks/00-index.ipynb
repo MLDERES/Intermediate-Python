{
 "cells": [
  {
   "cell_type": "markdown",
   "metadata": {},
   "source": [
    "# Notebooks\n",
    "\n",
    "[Pandas Intro](./04-Pandas_Intro.ipynb)\n",
    "- [Pandas Assignment](04-Assignment.ipynb)\n",
    "\n",
    "[Data Formats](./05-DataFormats.ipynb)\n",
    "\n",
    "[Web Data](./06-WebData.ipynb)\n",
    "- [Web Data Assignment](06-WebData.ipynb)"
   ]
  }
 ],
 "metadata": {
  "kernelspec": {
   "display_name": "Python 3.9.12 ('base')",
   "language": "python",
   "name": "python3"
  },
  "language_info": {
   "name": "python",
   "version": "3.9.12"
  },
  "orig_nbformat": 4,
  "vscode": {
   "interpreter": {
    "hash": "d4d1e4263499bec80672ea0156c357c1ee493ec2b1c70f0acce89fc37c4a6abe"
   }
  }
 },
 "nbformat": 4,
 "nbformat_minor": 2
}
